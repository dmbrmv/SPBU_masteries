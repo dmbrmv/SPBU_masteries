{
 "cells": [
  {
   "cell_type": "code",
   "execution_count": null,
   "metadata": {},
   "outputs": [],
   "source": [
    "import pandas as pd\n",
    "import os"
   ]
  },
  {
   "cell_type": "markdown",
   "metadata": {},
   "source": [
    "### Чтение базы"
   ]
  },
  {
   "cell_type": "code",
   "execution_count": null,
   "metadata": {},
   "outputs": [],
   "source": [
    "my_databse = r'D:\\science things\\Izhora_Plateu\\Data\\Meteo\\1798230.csv'\n",
    "BIG_METEO = pd.read_csv(my_databse)\n",
    "\n",
    "Lat_Lon = BIG_METEO[['LATITUDE', 'LONGITUDE','NAME']]\n",
    "BIG_METEO = BIG_METEO[['NAME', 'DATE', 'PRCP', 'TAVG']]"
   ]
  },
  {
   "cell_type": "markdown",
   "metadata": {},
   "source": [
    "### Ранесение данных по соответствующим станция"
   ]
  },
  {
   "cell_type": "code",
   "execution_count": null,
   "metadata": {},
   "outputs": [],
   "source": [
    "List_Of_Stations = [[] for _ in range(len(BIG_METEO.NAME.unique()))]\n",
    "for i, station in enumerate(BIG_METEO.NAME.unique()):\n",
    "    for row in range(len(BIG_METEO)):\n",
    "        fnd = True\n",
    "        while fnd:\n",
    "            fnd = False\n",
    "            if station == BIG_METEO.iloc[row].NAME:\n",
    "                List_Of_Stations[i].append(BIG_METEO.iloc[row])\n",
    "                fnd = True\n",
    "                break\n",
    "\n",
    "## Дату в нужный формат\n",
    "\n",
    "List_Of_Stations = [pd.DataFrame(i) for i in List_Of_Stations]\n",
    "for station in List_Of_Stations:\n",
    "    station.DATE = pd.to_datetime(station.DATE)"
   ]
  },
  {
   "cell_type": "markdown",
   "metadata": {},
   "source": [
    "### В формат для температуры"
   ]
  },
  {
   "cell_type": "code",
   "execution_count": null,
   "metadata": {},
   "outputs": [],
   "source": [
    "List_Of_Stations_TAVG = [List_Of_Stations[i].drop(['PRCP'], axis = 1) for i in range(len(List_Of_Stations))]\n",
    "List_Of_Stations_TAVG_monthly = list()\n",
    "\n",
    "for i, station in enumerate(List_Of_Stations_TAVG):\n",
    "    List_Of_Stations_TAVG[i].index = List_Of_Stations_TAVG[i].DATE\n",
    "    List_Of_Stations_TAVG_monthly.append(List_Of_Stations_TAVG[i].resample('M').mean())\n",
    "\n",
    "ttt = [[[] for _ in range(12)] for _ in range(len(List_Of_Stations_TAVG_monthly))]\n",
    "small_list = list()\n",
    "for i, station in enumerate(List_Of_Stations_TAVG_monthly):\n",
    "    for mon in range(12):\n",
    "        tt = [[j == k+1 for j in [station.index[i].month for i in range(len(station))]] for k in range(12)]\n",
    "        for mask in tt:\n",
    "            ttt[i][mon].append([item for sublist in station[mask].values for item in sublist])\n",
    "            \n",
    "monthly_TAVG = [pd.DataFrame([ttt[j][0][i] for i in range(12)]).T for j in range(len(List_Of_Stations_TAVG_monthly))]\n",
    "\n",
    "monthes = ['Январь','Февраль','Март','Апрель','Май','Июнь','Июль','Август','Сентябрь','Октябрь','Ноябрь', 'Декабрь']\n",
    "\n",
    "for i in monthly_TAVG:\n",
    "    i.columns = monthes\n",
    "\n",
    "list_of_years = [pd.date_range(start = str(List_Of_Stations_TAVG[t].index.year.min()), end = str(List_Of_Stations_TAVG[t].index.year.max()+1), freq = 'Y') for t in range(len(List_Of_Stations_TAVG))]\n",
    "\n",
    "for i in range(len(monthly_TAVG)):\n",
    "    monthly_TAVG[i]['Среднегодовое'] = monthly_TAVG[i][monthes].mean(axis = 1, skipna = False)\n",
    "\n",
    "for station in monthly_TAVG:\n",
    "    for columns in station.columns:\n",
    "        station[columns] = station[columns].astype('float64').apply('{:.2f}'.format)\n",
    "        station[columns] = station[columns].astype('float64')\n",
    "\n",
    "for i in range(len(monthly_TAVG)):\n",
    "    monthly_TAVG[i].insert(loc = 0, column = 'date', value = list_of_years[i])\n",
    "    monthly_TAVG[i] = monthly_TAVG[i].dropna()\n",
    "    monthly_TAVG[i] = monthly_TAVG[i].reset_index(drop = True)"
   ]
  },
  {
   "cell_type": "markdown",
   "metadata": {},
   "source": [
    "### В формат для осадков"
   ]
  },
  {
   "cell_type": "code",
   "execution_count": null,
   "metadata": {},
   "outputs": [],
   "source": [
    "List_Of_Stations_PRCP = [List_Of_Stations[i].drop(['TAVG'], axis = 1) for i in range(len(List_Of_Stations))]\n",
    "List_Of_Stations_PRCP_monthly = list()\n",
    "\n",
    "for i, station in enumerate(List_Of_Stations_PRCP):\n",
    "    List_Of_Stations_PRCP[i].index = List_Of_Stations_PRCP[i].DATE\n",
    "    List_Of_Stations_PRCP_monthly.append(List_Of_Stations_PRCP[i].resample('M').sum())\n",
    "\n",
    "ttt = [[[] for _ in range(12)] for _ in range(len(List_Of_Stations_PRCP_monthly))]\n",
    "small_list = list()\n",
    "for i, station in enumerate(List_Of_Stations_PRCP_monthly):\n",
    "    for mon in range(12):\n",
    "        tt = [[j == k+1 for j in [station.index[i].month for i in range(len(station))]] for k in range(12)]\n",
    "        for mask in tt:\n",
    "            ttt[i][mon].append([item for sublist in station[mask].values for item in sublist])\n",
    "            \n",
    "monthly_PRCP = [pd.DataFrame([ttt[j][0][i] for i in range(12)]).T for j in range(len(List_Of_Stations_PRCP_monthly))]\n",
    "\n",
    "monthes = ['Январь','Февраль','Март','Апрель','Май','Июнь','Июль','Август','Сентябрь','Октябрь','Ноябрь', 'Декабрь']\n",
    "\n",
    "for i in monthly_PRCP:\n",
    "    i.columns = monthes\n",
    "\n",
    "list_of_years = [pd.date_range(start = str(List_Of_Stations_PRCP[t].index.year.min()), end = str(List_Of_Stations_PRCP[t].index.year.max()+1), freq = 'Y') for t in range(len(List_Of_Stations_PRCP))]\n",
    "\n",
    "for i in range(len(monthly_PRCP)):\n",
    "    monthly_PRCP[i]['Среднегодовое'] = monthly_PRCP[i][monthes].sum(axis = 1, skipna = False)\n",
    "\n",
    "for station in monthly_PRCP:\n",
    "    for columns in station.columns:\n",
    "        station[columns] = station[columns].astype('float64').apply('{:.2f}'.format)\n",
    "        station[columns] = station[columns].astype('float64')\n",
    "\n",
    "for i in range(len(monthly_PRCP)):\n",
    "    monthly_PRCP[i].insert(loc = 0, column = 'date', value = list_of_years[i])\n",
    "    for column in monthly_PRCP[i].columns:\n",
    "        monthly_PRCP[i][column] = monthly_PRCP[i][column].replace(0, np.NaN)\n",
    "    monthly_PRCP[i] = monthly_PRCP[i].dropna()\n",
    "    monthly_PRCP[i] = monthly_PRCP[i].reset_index(drop = True)"
   ]
  },
  {
   "cell_type": "markdown",
   "metadata": {},
   "source": [
    "### Только длинные ряды"
   ]
  },
  {
   "cell_type": "markdown",
   "metadata": {},
   "source": [
    "### Только длинные ряды"
   ]
  },
  {
   "cell_type": "code",
   "execution_count": null,
   "metadata": {},
   "outputs": [],
   "source": [
    "METEO_NAMES = BIG_METEO.NAME.unique()\n",
    "monthly_TAVG_new = list()\n",
    "METEO_NAMES_new = list()\n",
    "for i, monthly_TMP in enumerate(monthly_TAVG):\n",
    "    if len(monthly_TMP) > 15:\n",
    "        monthly_TAVG_new.append(monthly_TMP)\n",
    "        METEO_NAMES_new.append(METEO_NAMES[i])"
   ]
  },
  {
   "cell_type": "markdown",
   "metadata": {},
   "source": [
    "### Считаем всю статистику"
   ]
  },
  {
   "cell_type": "code",
   "execution_count": null,
   "metadata": {},
   "outputs": [],
   "source": [
    "METEO_NAMES = BIG_METEO.NAME.unique()\n",
    "monthly_PRCP_new = list()\n",
    "METEO_NAMES_new = list()\n",
    "for i, monthly_P in enumerate(monthly_PRCP):\n",
    "    if len(monthly_P) > 15:\n",
    "        monthly_PRCP_new.append(monthly_P)\n",
    "        METEO_NAMES_new.append(METEO_NAMES[i])"
   ]
  },
  {
   "cell_type": "code",
   "execution_count": null,
   "metadata": {},
   "outputs": [],
   "source": [
    "from izhora_class import izhora_class"
   ]
  },
  {
   "cell_type": "code",
   "execution_count": null,
   "metadata": {},
   "outputs": [],
   "source": [
    "izhora_class(monthly_TAVG_new, METEO_NAMES_new, 'Izhora_TAVG')"
   ]
  }
 ],
 "metadata": {
  "language_info": {
   "name": "python",
   "codemirror_mode": {
    "name": "ipython",
    "version": 3
   },
   "version": "3.7.6-final"
  },
  "orig_nbformat": 2,
  "file_extension": ".py",
  "mimetype": "text/x-python",
  "name": "python",
  "npconvert_exporter": "python",
  "pygments_lexer": "ipython3",
  "version": 3,
  "kernelspec": {
   "name": "python3",
   "display_name": "Python 3"
  }
 },
 "nbformat": 4,
 "nbformat_minor": 2
}